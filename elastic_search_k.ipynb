{
 "cells": [
  {
   "cell_type": "markdown",
   "id": "12cd0938-2642-4f22-9f1a-450c276500bf",
   "metadata": {
    "tags": []
   },
   "source": [
    "# P@K for ElasticSearch responses"
   ]
  },
  {
   "cell_type": "code",
   "execution_count": 9,
   "id": "198df99d-6c28-4c7d-9c45-c419f646acda",
   "metadata": {},
   "outputs": [],
   "source": [
    "import pandas as pd\n",
    "from elasticsearch import Elasticsearch\n",
    "from nltk.corpus import stopwords\n",
    "from nltk.tokenize import word_tokenize\n",
    "from nltk.tokenize import RegexpTokenizer\n",
    "from nltk.stem import WordNetLemmatizer\n",
    "import nltk\n",
    "import re"
   ]
  },
  {
   "cell_type": "markdown",
   "id": "4a813b92-7208-4009-9f86-9dfb903b94e6",
   "metadata": {
    "tags": []
   },
   "source": [
    "## Read Data and init variables"
   ]
  },
  {
   "cell_type": "code",
   "execution_count": 2,
   "id": "a9bfaf7d-4147-4176-a4e0-e06289d07164",
   "metadata": {},
   "outputs": [
    {
     "name": "stderr",
     "output_type": "stream",
     "text": [
      "[nltk_data] Downloading package stopwords to\n",
      "[nltk_data]     C:\\Users\\embis\\AppData\\Roaming\\nltk_data...\n",
      "[nltk_data]   Package stopwords is already up-to-date!\n"
     ]
    }
   ],
   "source": [
    "#download and set stopwords\n",
    "nltk.download('stopwords')\n",
    "stop_words = set(stopwords.words('english'))\n",
    "tokenizer = RegexpTokenizer(r'\\w+')"
   ]
  },
  {
   "cell_type": "code",
   "execution_count": 3,
   "id": "0442c87b-99f8-4682-94a7-5ed22bef971a",
   "metadata": {},
   "outputs": [],
   "source": [
    "lemmatizer = WordNetLemmatizer()"
   ]
  },
  {
   "cell_type": "code",
   "execution_count": 4,
   "id": "521540e8-d31a-41df-ab3e-91852199ec29",
   "metadata": {},
   "outputs": [],
   "source": [
    "DATA_PATH = \"../data/data_clean.csv\"\n",
    "df = pd.read_csv(DATA_PATH, sep=\";\", header=None)\n",
    "df.columns = [\"source\", \"question\", \"answer\", \"category\", \"qId\", \"text_body\"]"
   ]
  },
  {
   "cell_type": "code",
   "execution_count": 5,
   "id": "44f53d80-8ee0-4637-bfd5-ce318b220a32",
   "metadata": {},
   "outputs": [
    {
     "data": {
      "text/html": [
       "<div>\n",
       "<style scoped>\n",
       "    .dataframe tbody tr th:only-of-type {\n",
       "        vertical-align: middle;\n",
       "    }\n",
       "\n",
       "    .dataframe tbody tr th {\n",
       "        vertical-align: top;\n",
       "    }\n",
       "\n",
       "    .dataframe thead th {\n",
       "        text-align: right;\n",
       "    }\n",
       "</style>\n",
       "<table border=\"1\" class=\"dataframe\">\n",
       "  <thead>\n",
       "    <tr style=\"text-align: right;\">\n",
       "      <th></th>\n",
       "      <th>source</th>\n",
       "      <th>question</th>\n",
       "      <th>answer</th>\n",
       "      <th>category</th>\n",
       "      <th>qId</th>\n",
       "      <th>text_body</th>\n",
       "    </tr>\n",
       "  </thead>\n",
       "  <tbody>\n",
       "    <tr>\n",
       "      <th>0</th>\n",
       "      <td>anwki</td>\n",
       "      <td>Which american journalist was born on October ...</td>\n",
       "      <td>E. Thomas Wood</td>\n",
       "      <td>HUM:ind</td>\n",
       "      <td>5954080</td>\n",
       "      <td>E. Thomas Wood (born October 9, 1963) is an Am...</td>\n",
       "    </tr>\n",
       "    <tr>\n",
       "      <th>1</th>\n",
       "      <td>weigelt-greffin</td>\n",
       "      <td>What is Armada de Molucca?</td>\n",
       "      <td>Spanish fleet</td>\n",
       "      <td>ENTY:other</td>\n",
       "      <td>12027162</td>\n",
       "      <td>The Armada de Molucca was the name of the Span...</td>\n",
       "    </tr>\n",
       "    <tr>\n",
       "      <th>2</th>\n",
       "      <td>anwki</td>\n",
       "      <td>What percent of the population are unable to e...</td>\n",
       "      <td>Approximately 65 percent</td>\n",
       "      <td>NUM:count</td>\n",
       "      <td>165423</td>\n",
       "      <td>Approximately 65 percent of the adult populati...</td>\n",
       "    </tr>\n",
       "    <tr>\n",
       "      <th>3</th>\n",
       "      <td>anwki</td>\n",
       "      <td>During which conflict was I-94 built?</td>\n",
       "      <td>World War II</td>\n",
       "      <td>ENTY:other</td>\n",
       "      <td>8687</td>\n",
       "      <td>Henry Ford built it to link the factories at W...</td>\n",
       "    </tr>\n",
       "    <tr>\n",
       "      <th>4</th>\n",
       "      <td>anwki</td>\n",
       "      <td>Where is Saraiki usually spoken?</td>\n",
       "      <td>south Punjab</td>\n",
       "      <td>LOC:other</td>\n",
       "      <td>24751</td>\n",
       "      <td>Saraiki is mostly spoken in south Punjab, and ...</td>\n",
       "    </tr>\n",
       "  </tbody>\n",
       "</table>\n",
       "</div>"
      ],
      "text/plain": [
       "            source                                           question  \\\n",
       "0            anwki  Which american journalist was born on October ...   \n",
       "1  weigelt-greffin                         What is Armada de Molucca?   \n",
       "2            anwki  What percent of the population are unable to e...   \n",
       "3            anwki              During which conflict was I-94 built?   \n",
       "4            anwki                   Where is Saraiki usually spoken?   \n",
       "\n",
       "                     answer    category       qId  \\\n",
       "0            E. Thomas Wood     HUM:ind   5954080   \n",
       "1             Spanish fleet  ENTY:other  12027162   \n",
       "2  Approximately 65 percent   NUM:count    165423   \n",
       "3              World War II  ENTY:other      8687   \n",
       "4              south Punjab   LOC:other     24751   \n",
       "\n",
       "                                           text_body  \n",
       "0  E. Thomas Wood (born October 9, 1963) is an Am...  \n",
       "1  The Armada de Molucca was the name of the Span...  \n",
       "2  Approximately 65 percent of the adult populati...  \n",
       "3  Henry Ford built it to link the factories at W...  \n",
       "4  Saraiki is mostly spoken in south Punjab, and ...  "
      ]
     },
     "execution_count": 5,
     "metadata": {},
     "output_type": "execute_result"
    }
   ],
   "source": [
    "df.head()"
   ]
  },
  {
   "cell_type": "code",
   "execution_count": 6,
   "id": "c1bd21ee-44d2-464e-91bb-9e98446ba1ac",
   "metadata": {},
   "outputs": [
    {
     "name": "stdout",
     "output_type": "stream",
     "text": [
      "<class 'pandas.core.frame.DataFrame'>\n",
      "RangeIndex: 1585 entries, 0 to 1584\n",
      "Data columns (total 6 columns):\n",
      " #   Column     Non-Null Count  Dtype \n",
      "---  ------     --------------  ----- \n",
      " 0   source     1585 non-null   object\n",
      " 1   question   1585 non-null   object\n",
      " 2   answer     1585 non-null   object\n",
      " 3   category   1585 non-null   object\n",
      " 4   qId        1585 non-null   int64 \n",
      " 5   text_body  1585 non-null   object\n",
      "dtypes: int64(1), object(5)\n",
      "memory usage: 74.4+ KB\n"
     ]
    }
   ],
   "source": [
    "df.info()"
   ]
  },
  {
   "cell_type": "code",
   "execution_count": 5,
   "id": "dad12231-ee4f-48df-bbdc-298fadea5865",
   "metadata": {},
   "outputs": [
    {
     "name": "stdout",
     "output_type": "stream",
     "text": [
      "connected to ElasticSearch: True\n"
     ]
    }
   ],
   "source": [
    "es = Elasticsearch(\"http://localhost:9200\")\n",
    "print(\"connected to ElasticSearch:\",es.ping())"
   ]
  },
  {
   "cell_type": "markdown",
   "id": "8f5c68bb-4125-4bb4-ba6a-f03e6d5416e6",
   "metadata": {
    "tags": []
   },
   "source": [
    "## Queries for elastic search"
   ]
  },
  {
   "cell_type": "code",
   "execution_count": 17,
   "id": "286f8f52-2663-4bfd-9d3a-96d6c3128fee",
   "metadata": {},
   "outputs": [],
   "source": [
    "# normal query\n",
    "def build_query(query, k):   \n",
    "    #searching\n",
    "    my_query = {\n",
    "        \"match\" : {\n",
    "            \"text\" : {\n",
    "                \"query\" : query,\n",
    "                \"operator\" : \"or\",\n",
    "                }\n",
    "            }\n",
    "        }\n",
    "    res = es.search(index=\"wikibase\", query=my_query, size=k)\n",
    "    return res\n",
    "\n",
    "# boosted query\n",
    "def build_query_boosted(query, k):   \n",
    "    #searching\n",
    "    my_query = {\n",
    "        \"multi_match\": {\n",
    "            \"query\": query,\n",
    "            \"fields\": [\"title^1.2\", \"text\"]\n",
    "        }\n",
    "    }\n",
    "    res = es.search(index=\"wikibase\", query=my_query, size=k)\n",
    "    return res\n",
    "\n",
    "def build_query_removed_stopwords(query, k):\n",
    "    #searching\n",
    "    #query_numbers_removed = re.sub('[0-9]+', '', query)\n",
    "    query_tokenized = tokenizer.tokenize(query)\n",
    "    filtered_query = [w for w in query_tokenized if not w.lower() in stop_words]\n",
    "    filtered_query = ' '.join(filtered_query)\n",
    "    my_query = {\n",
    "        \"match\" : {\n",
    "            \"text\" : {\n",
    "                \"query\" : filtered_query,\n",
    "                }\n",
    "            }\n",
    "        }\n",
    "    res = es.search(index=\"wikibase\", query=my_query, size=k)\n",
    "    return res\n",
    "\n",
    "# boosted query\n",
    "def build_query_removed_stopwords_bossted(query, k):   \n",
    "    #searching\n",
    "    query_tokenized = tokenizer.tokenize(query)\n",
    "    filtered_query = [w for w in query_tokenized if not w.lower() in stop_words]\n",
    "    filtered_query = ' '.join(filtered_query)\n",
    "    my_query = {\n",
    "        \"multi_match\": {\n",
    "            \"query\": filtered_query,\n",
    "            \"fields\": [\"title^1.1\", \"text\"]\n",
    "        }\n",
    "    }\n",
    "    res = es.search(index=\"wikibase\", query=my_query, size=k)\n",
    "    return res\n",
    "\n",
    "#query without punctuation and numbers\n",
    "def build_query_token(query, k):\n",
    "    #remove punctuation and numbers\n",
    "    query_numbers_removed = re.sub('[0-9]+', '', query)\n",
    "    #remove punctuation\n",
    "    query_tokenized = tokenizer.tokenize(query_numbers_removed)\n",
    "    query_tokenized = ' '.join(query_tokenized)\n",
    "    my_query = {\n",
    "        \"match\" : {\n",
    "            \"text\" : {\n",
    "                \"query\" : query_tokenized,\n",
    "                \"operator\" : \"or\",\n",
    "                }\n",
    "            }\n",
    "        }\n",
    "    res = es.search(index=\"wikibase\", query=my_query, size=k)\n",
    "    return res\n",
    "\n",
    "def build_query_stemmed(query, k):\n",
    "    query_tokenized = tokenizer.tokenize(query)\n",
    "    filtered_query = [lemmatizer.lemmatize(w) for w in query_tokenized]\n",
    "    filtered_query = ' '.join(filtered_query)\n",
    "    my_query = {\n",
    "        \"match\" : {\n",
    "            \"text\" : {\n",
    "                \"query\" : filtered_query,\n",
    "                \"fuzziness\": 1\n",
    "                }\n",
    "            }\n",
    "        }\n",
    "    res = es.search(index=\"wikibase\", query=my_query, size=k)\n",
    "    return res\n",
    "\n",
    "def build_query_boolean(query, k):\n",
    "    query_tokenized = tokenizer.tokenize(query)\n",
    "    filtered_query = [w for w in query_tokenized if not w.lower() in stop_words]\n",
    "    filtered_query = ' '.join(filtered_query)\n",
    "    my_query = {\n",
    "        #\"query\": {\n",
    "            \"bool\": {\n",
    "                \"should\": [\n",
    "                    {\n",
    "                        \"match\": {\n",
    "                            \"text\": {\n",
    "                            \"query\": filtered_query\n",
    "                            }\n",
    "                        }\n",
    "                    },\n",
    "                    {\n",
    "                        \"match\": {\n",
    "                            \"text\": {\n",
    "                            \"query\": filtered_query,\n",
    "                            \"operator\": \"and\"\n",
    "                            }\n",
    "                        }\n",
    "                    },\n",
    "                    {\n",
    "                        \"match_phrase\": {\n",
    "                            \"text\": {\n",
    "                            \"query\": filtered_query,\n",
    "                            \"boost\": 2\n",
    "                            }\n",
    "                        }\n",
    "                    }\n",
    "                ]\n",
    "            }\n",
    "    #    }\n",
    "    }\n",
    "    res = es.search(index=\"wikibase\", query=my_query, size=k)\n",
    "    return res"
   ]
  },
  {
   "cell_type": "code",
   "execution_count": 11,
   "id": "711aab70-cd95-4d30-ac8a-6ee2c21644b9",
   "metadata": {},
   "outputs": [],
   "source": [
    "# query _id of question\n",
    "def build_query_id(query):\n",
    "    # searching\n",
    "    my_query = {\n",
    "        \"match\": {\n",
    "            \"_id\": query\n",
    "        }\n",
    "    }\n",
    "    res = es.search(index=\"wikibase\", query=my_query)\n",
    "    return res"
   ]
  },
  {
   "cell_type": "code",
   "execution_count": 7,
   "id": "f80189f9-c368-44c8-a851-205e1b2151da",
   "metadata": {},
   "outputs": [],
   "source": [
    "# helper function to show results\n",
    "def show_results(res):\n",
    "    for hit in res[\"hits\"][\"hits\"]:\n",
    "        score, doc = hit[\"_score\"], hit[\"_source\"]\n",
    "        print(\"ID: \" , hit[\"_id\"] , \" Score: \" , score)"
   ]
  },
  {
   "cell_type": "code",
   "execution_count": 8,
   "id": "18fc7e07-cb9d-4597-b6a2-1ddcce0ac90d",
   "metadata": {},
   "outputs": [],
   "source": [
    "# helper function to show results\n",
    "def precision_at_100(es_query):\n",
    "    question_list = df[\"question\"].values\n",
    "    qId_list = df[\"qId\"].values\n",
    "    \n",
    "    k1, k2, k3, k4, k5, k10, k20, k50, k100 = 0, 0, 0, 0, 0, 0, 0, 0, 0\n",
    "    counter = 0\n",
    "    for question, answer_id in zip(question_list, qId_list):\n",
    "        #print(question, answer_id)\n",
    "        counter += 1\n",
    "        answer_id = str(answer_id)\n",
    "        res = es_query(question, 100)\n",
    "        #show_results(res)\n",
    "\n",
    "        ans_arr = []\n",
    "        hit_counter = 0\n",
    "        for hit in res[\"hits\"][\"hits\"]:\n",
    "            ans_arr.append(hit[\"_id\"])\n",
    "        #print(len(ans_arr))\n",
    "\n",
    "        #assert len(ans_arr) == 100\n",
    "        if (len(ans_arr) != 0):\n",
    "            if answer_id in ans_arr[0]:\n",
    "                k1 += 1 \n",
    "            if answer_id in ans_arr[:2]:\n",
    "                k2 += 1\n",
    "            if answer_id in ans_arr[:3]:\n",
    "                k3 += 1\n",
    "            if answer_id in ans_arr[:4]:\n",
    "                k4 += 1\n",
    "            if answer_id in ans_arr[:5]:\n",
    "                k5 += 1\n",
    "            if answer_id in ans_arr[:10]:\n",
    "                k10 += 1\n",
    "            if answer_id in ans_arr[:20]:\n",
    "                k20 += 1\n",
    "            if answer_id in ans_arr[:50]:\n",
    "                k50 += 1\n",
    "            if answer_id in ans_arr:\n",
    "                k100 += 1\n",
    "\n",
    "        if counter % 500 == 0:\n",
    "            print(f\"{counter} answers processed\")\n",
    "    \n",
    "    print(\"\\n\")\n",
    "\n",
    "    print(f\"{counter} answers procesed\")\n",
    "    print(f\"P@1 = {k1/counter}\")\n",
    "    print(f\"P@2 = {k2/counter}\")\n",
    "    print(f\"P@3 = {k3/counter}\")\n",
    "    print(f\"P@4 = {k4/counter}\")\n",
    "    print(f\"P@5 = {k5/counter}\")\n",
    "    print(f\"P@10 = {k10/counter}\")\n",
    "    print(f\"P@20 = {k20/counter}\")\n",
    "    print(f\"P@50 = {k50/counter}\")\n",
    "    print(f\"P@100 = {k100/counter}\")\n",
    "    #print(f\"Average Percision: {((k1/counter)+(k5/counter)+(k10/counter)+(k20/counter)+(k50/counter)+(k100/counter)) / 6}\")"
   ]
  },
  {
   "cell_type": "code",
   "execution_count": 10,
   "id": "8d61ea32",
   "metadata": {},
   "outputs": [
    {
     "name": "stdout",
     "output_type": "stream",
     "text": [
      "['Which', 'american', 'journalist', 'was', 'born', 'on', 'October']\n"
     ]
    }
   ],
   "source": [
    "#remove punctuation and numbers\n",
    "query = \"Which american journalist was born on October 9, 1963?\"\n",
    "query_numbers_removed = re.sub('[0-9]+', '', query)\n",
    "#remove punctuation\n",
    "query_tokenized = tokenizer.tokenize(query_numbers_removed)\n",
    "print(query_tokenized)"
   ]
  },
  {
   "cell_type": "markdown",
   "id": "4f635bf8-3534-4177-97ad-5eb265440fd6",
   "metadata": {
    "tags": []
   },
   "source": [
    "# Test different ElasticSearch queries\n",
    "- best score\n",
    "    - normal boosted query with title^1.1"
   ]
  },
  {
   "cell_type": "markdown",
   "id": "ab44076b-e92d-47b0-93da-f111230d19eb",
   "metadata": {
    "tags": []
   },
   "source": [
    "### Normal Query\n",
    "- without any preprocessing"
   ]
  },
  {
   "cell_type": "code",
   "execution_count": 14,
   "id": "46a6bbd4-abad-48d6-b331-e15017be2235",
   "metadata": {},
   "outputs": [
    {
     "name": "stdout",
     "output_type": "stream",
     "text": [
      "500 answers processed\n",
      "1000 answers processed\n",
      "1500 answers processed\n",
      "\n",
      "\n",
      "1585 answers procesed\n",
      "P@1 = 0.5981072555205047\n",
      "P@2 = 0.6902208201892744\n",
      "P@3 = 0.7287066246056783\n",
      "P@4 = 0.7495268138801262\n",
      "P@5 = 0.7697160883280757\n",
      "P@10 = 0.8063091482649842\n",
      "P@20 = 0.8422712933753943\n",
      "P@50 = 0.8719242902208202\n",
      "P@100 = 0.8965299684542587\n"
     ]
    }
   ],
   "source": [
    "precision_at_100(build_query)"
   ]
  },
  {
   "cell_type": "markdown",
   "id": "3691690c",
   "metadata": {},
   "source": [
    "### Query removed punctuation and numbers"
   ]
  },
  {
   "cell_type": "code",
   "execution_count": 18,
   "id": "d66edaec",
   "metadata": {},
   "outputs": [
    {
     "name": "stdout",
     "output_type": "stream",
     "text": [
      "500 answers processed\n",
      "1000 answers processed\n",
      "1500 answers processed\n",
      "\n",
      "\n",
      "1585 answers procesed\n",
      "P@1 = 0.580441640378549\n",
      "P@2 = 0.6725552050473186\n",
      "P@3 = 0.7066246056782335\n",
      "P@4 = 0.7255520504731862\n",
      "P@5 = 0.7470031545741325\n",
      "P@10 = 0.783596214511041\n",
      "P@20 = 0.8252365930599369\n",
      "P@50 = 0.8624605678233438\n",
      "P@100 = 0.8883280757097792\n"
     ]
    }
   ],
   "source": [
    "precision_at_100(build_query_token)"
   ]
  },
  {
   "cell_type": "markdown",
   "id": "25e73c39-f562-4e22-a62a-0f6ed0e9c291",
   "metadata": {},
   "source": [
    "### Boosted Query\n",
    "- boosted title field"
   ]
  },
  {
   "cell_type": "code",
   "execution_count": 15,
   "id": "27de7571-8edd-4ece-bbd6-b1c505ab280a",
   "metadata": {},
   "outputs": [
    {
     "name": "stdout",
     "output_type": "stream",
     "text": [
      "500 answers processed\n",
      "1000 answers processed\n",
      "1500 answers processed\n",
      "\n",
      "\n",
      "1585 answers procesed\n",
      "P@1 = 0.6063091482649843\n",
      "P@2 = 0.6990536277602524\n",
      "P@3 = 0.7369085173501577\n",
      "P@4 = 0.7558359621451104\n",
      "P@5 = 0.7772870662460568\n",
      "P@10 = 0.8145110410094637\n",
      "P@20 = 0.849211356466877\n",
      "P@50 = 0.8813880126182966\n",
      "P@100 = 0.9053627760252366\n"
     ]
    }
   ],
   "source": [
    "# boosted title^1.1\n",
    "precision_at_100(build_query_boosted)"
   ]
  },
  {
   "cell_type": "code",
   "execution_count": 17,
   "id": "43121018-c1db-42a1-8d3d-a81cca5044ab",
   "metadata": {},
   "outputs": [
    {
     "name": "stdout",
     "output_type": "stream",
     "text": [
      "500 answers processed\n",
      "1000 answers processed\n",
      "1500 answers processed\n",
      "\n",
      "\n",
      "1585 answers procesed\n",
      "P@1 = 0.6050473186119874\n",
      "P@2 = 0.6965299684542586\n",
      "P@3 = 0.7356466876971609\n",
      "P@4 = 0.7564668769716089\n",
      "P@5 = 0.7766561514195583\n",
      "P@10 = 0.8151419558359622\n",
      "P@20 = 0.8504731861198738\n",
      "P@50 = 0.8813880126182966\n",
      "P@100 = 0.9066246056782334\n"
     ]
    }
   ],
   "source": [
    "# boosted title^1.2\n",
    "precision_at_100(build_query_boosted)"
   ]
  },
  {
   "cell_type": "markdown",
   "id": "a9fcba7c-fdc5-4b20-b635-28687f4c10e4",
   "metadata": {},
   "source": [
    "### Normal Query with stopword removal\n",
    "- removed stopwords in question"
   ]
  },
  {
   "cell_type": "code",
   "execution_count": 25,
   "id": "add0fe1a-cc8f-438b-a0ad-acfd84b61a97",
   "metadata": {},
   "outputs": [
    {
     "name": "stdout",
     "output_type": "stream",
     "text": [
      "500 answers processed\n",
      "1000 answers processed\n",
      "1500 answers processed\n",
      "\n",
      "\n",
      "1585 answers procesed\n",
      "P@1 = 0.5917981072555205\n",
      "P@2 = 0.6788643533123029\n",
      "P@3 = 0.7167192429022082\n",
      "P@4 = 0.7381703470031545\n",
      "P@5 = 0.7564668769716089\n",
      "P@10 = 0.7936908517350157\n",
      "P@20 = 0.8347003154574133\n",
      "P@50 = 0.865615141955836\n",
      "P@100 = 0.889589905362776\n"
     ]
    }
   ],
   "source": [
    "precision_at_100(build_query_removed_stopwords)"
   ]
  },
  {
   "cell_type": "markdown",
   "id": "ca4cba60-8d70-462a-ae52-b00649486314",
   "metadata": {},
   "source": [
    "### Boosted Query with stopword removal"
   ]
  },
  {
   "cell_type": "code",
   "execution_count": 27,
   "id": "b02e3626-9569-4108-a0d2-4594b91d9903",
   "metadata": {},
   "outputs": [
    {
     "name": "stdout",
     "output_type": "stream",
     "text": [
      "500 answers processed\n",
      "1000 answers processed\n",
      "1500 answers processed\n",
      "\n",
      "\n",
      "1585 answers procesed\n",
      "P@1 = 0.6012618296529968\n",
      "P@2 = 0.689589905362776\n",
      "P@3 = 0.7261829652996845\n",
      "P@4 = 0.7488958990536277\n",
      "P@5 = 0.7652996845425868\n",
      "P@10 = 0.8031545741324921\n",
      "P@20 = 0.8441640378548896\n",
      "P@50 = 0.8757097791798107\n",
      "P@100 = 0.8990536277602523\n"
     ]
    }
   ],
   "source": [
    "# title^1.1\n",
    "precision_at_100(build_query_removed_stopwords_bossted)"
   ]
  },
  {
   "cell_type": "markdown",
   "id": "6f2517c3-0198-4ea7-892c-9d357be30480",
   "metadata": {},
   "source": [
    "### Boolean Query"
   ]
  },
  {
   "cell_type": "code",
   "execution_count": 28,
   "id": "9cd881f5-c1e2-4fb5-8329-112714a9e9eb",
   "metadata": {},
   "outputs": [
    {
     "name": "stdout",
     "output_type": "stream",
     "text": [
      "500 answers processed\n",
      "1000 answers processed\n",
      "1500 answers processed\n",
      "\n",
      "\n",
      "1585 answers procesed\n",
      "P@1 = 0.5873817034700315\n",
      "P@2 = 0.6883280757097792\n",
      "P@3 = 0.717981072555205\n",
      "P@4 = 0.7394321766561515\n",
      "P@5 = 0.759621451104101\n",
      "P@10 = 0.8069400630914827\n",
      "P@20 = 0.8384858044164037\n",
      "P@50 = 0.885173501577287\n",
      "P@100 = 0.910410094637224\n"
     ]
    }
   ],
   "source": [
    "precision_at_100(build_query_boolean)"
   ]
  },
  {
   "cell_type": "code",
   "execution_count": 30,
   "id": "cfca2b99-bef8-4e49-945f-ef2fc5242850",
   "metadata": {},
   "outputs": [
    {
     "name": "stdout",
     "output_type": "stream",
     "text": [
      "500 answers processed\n",
      "1000 answers processed\n",
      "1500 answers processed\n",
      "\n",
      "\n",
      "1585 answers procesed\n",
      "P@1 = 0.5873817034700315\n",
      "P@2 = 0.6883280757097792\n",
      "P@3 = 0.717981072555205\n",
      "P@4 = 0.7394321766561515\n",
      "P@5 = 0.759621451104101\n",
      "P@10 = 0.8069400630914827\n",
      "P@20 = 0.8384858044164037\n",
      "P@50 = 0.885173501577287\n",
      "P@100 = 0.910410094637224\n"
     ]
    }
   ],
   "source": [
    "# with stopwords removal\n",
    "precision_at_100(build_query_boolean)"
   ]
  },
  {
   "cell_type": "markdown",
   "id": "33953766-862a-4b66-a3ef-caac0f55df48",
   "metadata": {},
   "source": [
    "### Normal Query with Lemmatization"
   ]
  },
  {
   "cell_type": "code",
   "execution_count": 44,
   "id": "cee25f6a-9c87-4134-a59c-94079b4d0552",
   "metadata": {},
   "outputs": [
    {
     "name": "stdout",
     "output_type": "stream",
     "text": [
      "500 answers processed\n",
      "1000 answers processed\n",
      "1500 answers processed\n",
      "\n",
      "\n",
      "1585 answers procesed\n",
      "P@1 = 0.571608832807571\n",
      "P@2 = 0.6643533123028391\n",
      "P@3 = 0.6996845425867508\n",
      "P@4 = 0.7205047318611988\n",
      "P@5 = 0.7438485804416404\n",
      "P@10 = 0.7823343848580442\n",
      "P@20 = 0.8214511041009463\n",
      "P@50 = 0.8574132492113564\n",
      "P@100 = 0.885173501577287\n"
     ]
    }
   ],
   "source": [
    "precision_at_100(build_query_stemmed)"
   ]
  },
  {
   "cell_type": "code",
   "execution_count": 46,
   "id": "ca668c8c-0088-4707-8a14-b85ed99ef16b",
   "metadata": {},
   "outputs": [
    {
     "name": "stdout",
     "output_type": "stream",
     "text": [
      "500 answers processed\n",
      "1000 answers processed\n",
      "1500 answers processed\n",
      "\n",
      "\n",
      "1585 answers procesed\n",
      "P@1 = 0.338801261829653\n",
      "P@2 = 0.45741324921135645\n",
      "P@3 = 0.5160883280757098\n",
      "P@4 = 0.5495268138801261\n",
      "P@5 = 0.579179810725552\n",
      "P@10 = 0.6473186119873817\n",
      "P@20 = 0.7009463722397477\n",
      "P@50 = 0.7709779179810725\n",
      "P@100 = 0.8189274447949527\n"
     ]
    }
   ],
   "source": [
    "# fuzzines: 2\n",
    "precision_at_100(build_query_stemmed)"
   ]
  },
  {
   "cell_type": "code",
   "execution_count": 48,
   "id": "2457fb60-af8b-4586-9615-8c2020b2dd37",
   "metadata": {},
   "outputs": [
    {
     "name": "stdout",
     "output_type": "stream",
     "text": [
      "500 answers processed\n",
      "1000 answers processed\n",
      "1500 answers processed\n",
      "\n",
      "\n",
      "1585 answers procesed\n",
      "P@1 = 0.38359621451104103\n",
      "P@2 = 0.49589905362776027\n",
      "P@3 = 0.5451104100946372\n",
      "P@4 = 0.5766561514195584\n",
      "P@5 = 0.6094637223974764\n",
      "P@10 = 0.6738170347003155\n",
      "P@20 = 0.726813880126183\n",
      "P@50 = 0.7861198738170347\n",
      "P@100 = 0.832807570977918\n"
     ]
    }
   ],
   "source": [
    "# fuzzines: 1\n",
    "precision_at_100(build_query_stemmed)"
   ]
  },
  {
   "cell_type": "code",
   "execution_count": null,
   "id": "9c19673b-c9c8-44b4-ab2a-6904ab5be4a1",
   "metadata": {},
   "outputs": [],
   "source": []
  }
 ],
 "metadata": {
  "kernelspec": {
   "display_name": "Python 3 (ipykernel)",
   "language": "python",
   "name": "python3"
  },
  "language_info": {
   "codemirror_mode": {
    "name": "ipython",
    "version": 3
   },
   "file_extension": ".py",
   "mimetype": "text/x-python",
   "name": "python",
   "nbconvert_exporter": "python",
   "pygments_lexer": "ipython3",
   "version": "3.11.0"
  },
  "vscode": {
   "interpreter": {
    "hash": "22f98328a53a79cea3ecc602eb8123e2ed9636841e87d607724515cb1d3e2490"
   }
  }
 },
 "nbformat": 4,
 "nbformat_minor": 5
}
